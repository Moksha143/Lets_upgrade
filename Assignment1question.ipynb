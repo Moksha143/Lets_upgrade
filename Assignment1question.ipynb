{
 "cells": [
  {
   "cell_type": "code",
   "execution_count": 7,
   "metadata": {},
   "outputs": [
    {
     "name": "stdin",
     "output_type": "stream",
     "text": [
      "Enter the present altitude = 922\n"
     ]
    },
    {
     "name": "stdout",
     "output_type": "stream",
     "text": [
      "Tell him to land\n"
     ]
    }
   ],
   "source": [
    "h = input(\"Enter the present altitude =\")\n",
    "h=int(h)\n",
    "if h < 1000:\n",
    "    print(\"Tell him to land\")\n",
    "elif h>1000 and h<=5000:\n",
    "    print(\"Tell him to come to 1000ft \")\n",
    "else:\n",
    "    print(\"Ask him to land later\")\n",
    "    "
   ]
  },
  {
   "cell_type": "code",
   "execution_count": null,
   "metadata": {},
   "outputs": [],
   "source": []
  }
 ],
 "metadata": {
  "kernelspec": {
   "display_name": "Python 3",
   "language": "python",
   "name": "python3"
  },
  "language_info": {
   "codemirror_mode": {
    "name": "ipython",
    "version": 3
   },
   "file_extension": ".py",
   "mimetype": "text/x-python",
   "name": "python",
   "nbconvert_exporter": "python",
   "pygments_lexer": "ipython3",
   "version": "3.8.3"
  }
 },
 "nbformat": 4,
 "nbformat_minor": 4
}
